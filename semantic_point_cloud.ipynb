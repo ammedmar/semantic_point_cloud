{
 "cells": [
  {
   "cell_type": "code",
   "execution_count": null,
   "id": "60c7a977-e984-4b73-b659-71403eb0fd76",
   "metadata": {},
   "outputs": [],
   "source": [
    "import gudhi as gd\n",
    "import pickle as pkl\n",
    "import numpy as np\n",
    "import matplotlib.pyplot as plt\n",
    "import time\n",
    "import itertools"
   ]
  },
  {
   "cell_type": "code",
   "execution_count": null,
   "id": "fc1e5fbd-f02b-40c7-bed3-9ded8d45ff19",
   "metadata": {},
   "outputs": [],
   "source": [
    "with open('semantic_point_cloud.pickle', 'rb') as file:\n",
    "    full_data = pkl.load(file)\n",
    "\n",
    "print(f\"type {type(full_data)}, shape {full_data.shape}\")\n",
    "full_data[:5,:5]"
   ]
  },
  {
   "cell_type": "markdown",
   "id": "cb4efad1-a0ae-42cb-af2f-9c5ad7316464",
   "metadata": {},
   "source": [
    "Separate names and inspect values"
   ]
  },
  {
   "cell_type": "code",
   "execution_count": null,
   "id": "41b9bfe3-20fd-48fa-be9d-dcac9a757253",
   "metadata": {},
   "outputs": [],
   "source": [
    "names = full_data[:, 0]\n",
    "data = full_data[:, 1:]\n",
    "\n",
    "plt.hist(data.flatten(), bins=100, edgecolor='black')\n",
    "plt.xlabel('Value')\n",
    "plt.ylabel('Frequency')\n",
    "plt.title('Histogram of Values')\n",
    "plt.show()"
   ]
  },
  {
   "cell_type": "markdown",
   "id": "34b85d15-3c73-4a92-8a19-106f68fc6dd6",
   "metadata": {},
   "source": [
    "Reverting data to represent proximity instead of relational strength. Explicitly, we consider 10 - data where max(data) is 9.3."
   ]
  },
  {
   "cell_type": "code",
   "execution_count": null,
   "id": "082365a2-18ea-4e05-aff0-ed5a19537537",
   "metadata": {},
   "outputs": [],
   "source": [
    "plt.hist((10-data).flatten(), bins=100, edgecolor='black')\n",
    "plt.xlabel('Value')\n",
    "plt.ylabel('Frequency')\n",
    "plt.title('Histogram of Values')\n",
    "plt.show()"
   ]
  },
  {
   "cell_type": "markdown",
   "id": "f2baec13-77cd-4bb0-8c8e-e8d3e03b044e",
   "metadata": {},
   "source": [
    "Filter the data"
   ]
  },
  {
   "cell_type": "code",
   "execution_count": null,
   "id": "8db062c6-2406-439f-a777-8f6f59bd9be2",
   "metadata": {},
   "outputs": [],
   "source": [
    "interesting_words = np.random.choice(data.shape[0], 300, replace=False)\n",
    "sub_words_data = data[interesting_words,:]\n",
    "\n",
    "interesting_groundings = [1,4,7,13,19]\n",
    "cardinality = 3"
   ]
  },
  {
   "cell_type": "markdown",
   "id": "87ef9aa1-631e-4cce-ad00-25c7dd473435",
   "metadata": {},
   "source": [
    "Compute the barcode for each subset of interesting groundings of the given cardinality"
   ]
  },
  {
   "cell_type": "code",
   "execution_count": null,
   "id": "f4304dc7-f421-409f-9226-7ca2a2b24db3",
   "metadata": {
    "scrolled": true
   },
   "outputs": [],
   "source": [
    "barcodes = []\n",
    "times = []\n",
    "combinations = list(itertools.combinations(interesting_groundings, cardinality))\n",
    "for combo in combinations:\n",
    "    start_time = time.time()\n",
    "    combo_data = sub_words_data[:, combo]\n",
    "    rips_complex = gd.RipsComplex(points=combo_data, max_edge_length=10)\n",
    "    simplex_tree = rips_complex.create_simplex_tree(max_dimension=2)\n",
    "    barcode = simplex_tree.persistence()\n",
    "    barcodes.append(barcode)\n",
    "    end_time = time.time()\n",
    "    times.append(end_time - start_time)\n",
    "print(f\"Max time of {len(combinations)} computations was {max(times)}\")"
   ]
  },
  {
   "cell_type": "markdown",
   "id": "f24ab751-c7e5-4153-8b08-7e6d9f5bd4e3",
   "metadata": {},
   "source": [
    "We will compute all bottleneck distances between computed barcodes. The hypothesis is that the closer they are the more related the groundings are. Even more vaguely, the shape of the data is correlated to the meaning of the coordinates used to represent it.  "
   ]
  },
  {
   "cell_type": "code",
   "execution_count": null,
   "id": "c06d2b1f-722b-46e4-9bf3-4a35a11ecf8c",
   "metadata": {},
   "outputs": [],
   "source": [
    "zero_barcodes, one_barcodes = [], []\n",
    "for barcode in barcodes:\n",
    "    zero_barcodes.append([value for key, value in barcode if key == 0])\n",
    "    one_barcodes.append([value for key, value in barcode if key == 1])\n",
    "\n",
    "n = len(barcodes)\n",
    "zero_bottleneck_distances = np.zeros((n, n))\n",
    "one_bottleneck_distances = np.zeros((n, n))\n",
    "\n",
    "# Compute bottleneck distances\n",
    "for i in range(n):\n",
    "    for j in range(i + 1, n):\n",
    "        zero_distance = gd.bottleneck_distance(zero_barcodes[i], zero_barcodes[j])\n",
    "        zero_bottleneck_distances[i, j] = zero_distance\n",
    "        zero_bottleneck_distances[j, i] = zero_distance  # Symmetric matrix\n",
    "\n",
    "        one_distance = gd.bottleneck_distance(one_barcodes[i], one_barcodes[j])\n",
    "        one_bottleneck_distances[i, j] = one_distance\n",
    "        one_bottleneck_distances[j, i] = one_distance  # Symmetric matrix\n",
    "\n",
    "plt.imshow(zero_bottleneck_distances, cmap='hot', interpolation='nearest')\n",
    "plt.colorbar()  # Add a colorbar to show the scale\n",
    "plt.title('Heatmap for 0-bottleneck')\n",
    "plt.show()\n",
    "\n",
    "plt.imshow(one_bottleneck_distances, cmap='hot', interpolation='nearest')\n",
    "plt.colorbar()  # Add a colorbar to show the scale\n",
    "plt.title('Heatmap for 1-bottleneck')\n",
    "plt.show()"
   ]
  }
 ],
 "metadata": {
  "kernelspec": {
   "display_name": "Python 3 (ipykernel)",
   "language": "python",
   "name": "python3"
  },
  "language_info": {
   "codemirror_mode": {
    "name": "ipython",
    "version": 3
   },
   "file_extension": ".py",
   "mimetype": "text/x-python",
   "name": "python",
   "nbconvert_exporter": "python",
   "pygments_lexer": "ipython3",
   "version": "3.10.12"
  }
 },
 "nbformat": 4,
 "nbformat_minor": 5
}
